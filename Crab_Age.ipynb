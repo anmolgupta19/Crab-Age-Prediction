{
 "cells": [
  {
   "cell_type": "code",
   "execution_count": 1,
   "id": "de2b74f8-a44a-4701-885a-a7c624889ecb",
   "metadata": {},
   "outputs": [],
   "source": [
    "import numpy as np\n",
    "import pandas as pd\n",
    "import matplotlib.pyplot as plt\n",
    "import seaborn as sns"
   ]
  },
  {
   "cell_type": "code",
   "execution_count": 2,
   "id": "c4210218-2c8d-40fb-ac76-c525616e75ac",
   "metadata": {},
   "outputs": [],
   "source": [
    "test_df = pd.read_csv('test.csv')\n",
    "sample_df = pd.read_csv('sample_submission.csv')"
   ]
  },
  {
   "cell_type": "code",
   "execution_count": 3,
   "id": "bbbcb3ce-1634-454e-99bb-35348327a49c",
   "metadata": {},
   "outputs": [
    {
     "data": {
      "text/html": [
       "<div>\n",
       "<style scoped>\n",
       "    .dataframe tbody tr th:only-of-type {\n",
       "        vertical-align: middle;\n",
       "    }\n",
       "\n",
       "    .dataframe tbody tr th {\n",
       "        vertical-align: top;\n",
       "    }\n",
       "\n",
       "    .dataframe thead th {\n",
       "        text-align: right;\n",
       "    }\n",
       "</style>\n",
       "<table border=\"1\" class=\"dataframe\">\n",
       "  <thead>\n",
       "    <tr style=\"text-align: right;\">\n",
       "      <th></th>\n",
       "      <th>id</th>\n",
       "      <th>Sex</th>\n",
       "      <th>Length</th>\n",
       "      <th>Diameter</th>\n",
       "      <th>Height</th>\n",
       "      <th>Weight</th>\n",
       "      <th>Shucked Weight</th>\n",
       "      <th>Viscera Weight</th>\n",
       "      <th>Shell Weight</th>\n",
       "      <th>Age</th>\n",
       "    </tr>\n",
       "  </thead>\n",
       "  <tbody>\n",
       "    <tr>\n",
       "      <th>0</th>\n",
       "      <td>0</td>\n",
       "      <td>I</td>\n",
       "      <td>1.5250</td>\n",
       "      <td>1.1750</td>\n",
       "      <td>0.3750</td>\n",
       "      <td>28.973189</td>\n",
       "      <td>12.728926</td>\n",
       "      <td>6.647958</td>\n",
       "      <td>8.348928</td>\n",
       "      <td>9</td>\n",
       "    </tr>\n",
       "    <tr>\n",
       "      <th>1</th>\n",
       "      <td>1</td>\n",
       "      <td>I</td>\n",
       "      <td>1.1000</td>\n",
       "      <td>0.8250</td>\n",
       "      <td>0.2750</td>\n",
       "      <td>10.418441</td>\n",
       "      <td>4.521745</td>\n",
       "      <td>2.324659</td>\n",
       "      <td>3.401940</td>\n",
       "      <td>8</td>\n",
       "    </tr>\n",
       "    <tr>\n",
       "      <th>2</th>\n",
       "      <td>2</td>\n",
       "      <td>M</td>\n",
       "      <td>1.3875</td>\n",
       "      <td>1.1125</td>\n",
       "      <td>0.3750</td>\n",
       "      <td>24.777463</td>\n",
       "      <td>11.339800</td>\n",
       "      <td>5.556502</td>\n",
       "      <td>6.662133</td>\n",
       "      <td>9</td>\n",
       "    </tr>\n",
       "    <tr>\n",
       "      <th>3</th>\n",
       "      <td>3</td>\n",
       "      <td>F</td>\n",
       "      <td>1.7000</td>\n",
       "      <td>1.4125</td>\n",
       "      <td>0.5000</td>\n",
       "      <td>50.660556</td>\n",
       "      <td>20.354941</td>\n",
       "      <td>10.991839</td>\n",
       "      <td>14.996885</td>\n",
       "      <td>11</td>\n",
       "    </tr>\n",
       "    <tr>\n",
       "      <th>4</th>\n",
       "      <td>4</td>\n",
       "      <td>I</td>\n",
       "      <td>1.2500</td>\n",
       "      <td>1.0125</td>\n",
       "      <td>0.3375</td>\n",
       "      <td>23.289114</td>\n",
       "      <td>11.977664</td>\n",
       "      <td>4.507570</td>\n",
       "      <td>5.953395</td>\n",
       "      <td>8</td>\n",
       "    </tr>\n",
       "  </tbody>\n",
       "</table>\n",
       "</div>"
      ],
      "text/plain": [
       "   id Sex  Length  Diameter  Height     Weight  Shucked Weight  \\\n",
       "0   0   I  1.5250    1.1750  0.3750  28.973189       12.728926   \n",
       "1   1   I  1.1000    0.8250  0.2750  10.418441        4.521745   \n",
       "2   2   M  1.3875    1.1125  0.3750  24.777463       11.339800   \n",
       "3   3   F  1.7000    1.4125  0.5000  50.660556       20.354941   \n",
       "4   4   I  1.2500    1.0125  0.3375  23.289114       11.977664   \n",
       "\n",
       "   Viscera Weight  Shell Weight  Age  \n",
       "0        6.647958      8.348928    9  \n",
       "1        2.324659      3.401940    8  \n",
       "2        5.556502      6.662133    9  \n",
       "3       10.991839     14.996885   11  \n",
       "4        4.507570      5.953395    8  "
      ]
     },
     "execution_count": 3,
     "metadata": {},
     "output_type": "execute_result"
    }
   ],
   "source": [
    "df = pd.read_csv('train.csv')\n",
    "df.head()"
   ]
  },
  {
   "cell_type": "code",
   "execution_count": 4,
   "id": "e00d6af1-b0e9-467e-93fd-e319b521c9e7",
   "metadata": {},
   "outputs": [
    {
     "data": {
      "text/plain": [
       "Index(['id', 'Sex', 'Length', 'Diameter', 'Height', 'Weight', 'Shucked Weight',\n",
       "       'Viscera Weight', 'Shell Weight', 'Age'],\n",
       "      dtype='object')"
      ]
     },
     "execution_count": 4,
     "metadata": {},
     "output_type": "execute_result"
    }
   ],
   "source": [
    "df.columns"
   ]
  },
  {
   "cell_type": "code",
   "execution_count": 5,
   "id": "b6e17af0-a101-42b6-8a71-f33c46994939",
   "metadata": {},
   "outputs": [
    {
     "data": {
      "text/plain": [
       "(74051, 10)"
      ]
     },
     "execution_count": 5,
     "metadata": {},
     "output_type": "execute_result"
    }
   ],
   "source": [
    "df.shape"
   ]
  },
  {
   "cell_type": "code",
   "execution_count": 6,
   "id": "ffcaa552-3c35-4394-9619-2f8c4d789b27",
   "metadata": {},
   "outputs": [
    {
     "name": "stdout",
     "output_type": "stream",
     "text": [
      "<class 'pandas.core.frame.DataFrame'>\n",
      "RangeIndex: 74051 entries, 0 to 74050\n",
      "Data columns (total 10 columns):\n",
      " #   Column          Non-Null Count  Dtype  \n",
      "---  ------          --------------  -----  \n",
      " 0   id              74051 non-null  int64  \n",
      " 1   Sex             74051 non-null  object \n",
      " 2   Length          74051 non-null  float64\n",
      " 3   Diameter        74051 non-null  float64\n",
      " 4   Height          74051 non-null  float64\n",
      " 5   Weight          74051 non-null  float64\n",
      " 6   Shucked Weight  74051 non-null  float64\n",
      " 7   Viscera Weight  74051 non-null  float64\n",
      " 8   Shell Weight    74051 non-null  float64\n",
      " 9   Age             74051 non-null  int64  \n",
      "dtypes: float64(7), int64(2), object(1)\n",
      "memory usage: 5.6+ MB\n"
     ]
    }
   ],
   "source": [
    "df.info()"
   ]
  },
  {
   "cell_type": "code",
   "execution_count": 7,
   "id": "cfa817b2-b7e7-4f2f-931b-bc33914c21a5",
   "metadata": {},
   "outputs": [
    {
     "data": {
      "text/plain": [
       "array(['I', 'M', 'F'], dtype=object)"
      ]
     },
     "execution_count": 7,
     "metadata": {},
     "output_type": "execute_result"
    }
   ],
   "source": [
    "df['Sex'].unique()"
   ]
  },
  {
   "cell_type": "raw",
   "id": "c8fcf792-0815-467f-a1f8-8efb23b10fc0",
   "metadata": {},
   "source": [
    "Using Label encoder to handle the Categorical variable Sex."
   ]
  },
  {
   "cell_type": "code",
   "execution_count": 8,
   "id": "b291f6ef-c587-42c9-98a2-ddcbc4db9eb5",
   "metadata": {},
   "outputs": [],
   "source": [
    "from sklearn.preprocessing import StandardScaler,LabelEncoder"
   ]
  },
  {
   "cell_type": "code",
   "execution_count": 9,
   "id": "a6c68c0a-6489-437f-a1b4-c5125092716c",
   "metadata": {},
   "outputs": [
    {
     "data": {
      "text/plain": [
       "array([1, 2, 0])"
      ]
     },
     "execution_count": 9,
     "metadata": {},
     "output_type": "execute_result"
    }
   ],
   "source": [
    "label_encoder = LabelEncoder()\n",
    "  \n",
    "# Encode labels in column 'species'.\n",
    "df['Sex']= label_encoder.fit_transform(df['Sex'])\n",
    "  \n",
    "df['Sex'].unique()"
   ]
  },
  {
   "cell_type": "code",
   "execution_count": 10,
   "id": "42e953a6-727b-400e-bfd1-5ea0e6f5bb35",
   "metadata": {},
   "outputs": [
    {
     "data": {
      "text/html": [
       "<div>\n",
       "<style scoped>\n",
       "    .dataframe tbody tr th:only-of-type {\n",
       "        vertical-align: middle;\n",
       "    }\n",
       "\n",
       "    .dataframe tbody tr th {\n",
       "        vertical-align: top;\n",
       "    }\n",
       "\n",
       "    .dataframe thead th {\n",
       "        text-align: right;\n",
       "    }\n",
       "</style>\n",
       "<table border=\"1\" class=\"dataframe\">\n",
       "  <thead>\n",
       "    <tr style=\"text-align: right;\">\n",
       "      <th></th>\n",
       "      <th>id</th>\n",
       "      <th>Sex</th>\n",
       "      <th>Length</th>\n",
       "      <th>Diameter</th>\n",
       "      <th>Height</th>\n",
       "      <th>Weight</th>\n",
       "      <th>Shucked Weight</th>\n",
       "      <th>Viscera Weight</th>\n",
       "      <th>Shell Weight</th>\n",
       "      <th>Age</th>\n",
       "    </tr>\n",
       "  </thead>\n",
       "  <tbody>\n",
       "    <tr>\n",
       "      <th>count</th>\n",
       "      <td>74051.000000</td>\n",
       "      <td>74051.000000</td>\n",
       "      <td>74051.000000</td>\n",
       "      <td>74051.000000</td>\n",
       "      <td>74051.000000</td>\n",
       "      <td>74051.000000</td>\n",
       "      <td>74051.000000</td>\n",
       "      <td>74051.000000</td>\n",
       "      <td>74051.000000</td>\n",
       "      <td>74051.000000</td>\n",
       "    </tr>\n",
       "    <tr>\n",
       "      <th>mean</th>\n",
       "      <td>37025.000000</td>\n",
       "      <td>1.055016</td>\n",
       "      <td>1.317460</td>\n",
       "      <td>1.024496</td>\n",
       "      <td>0.348089</td>\n",
       "      <td>23.385217</td>\n",
       "      <td>10.104270</td>\n",
       "      <td>5.058386</td>\n",
       "      <td>6.723870</td>\n",
       "      <td>9.967806</td>\n",
       "    </tr>\n",
       "    <tr>\n",
       "      <th>std</th>\n",
       "      <td>21376.826729</td>\n",
       "      <td>0.820647</td>\n",
       "      <td>0.287757</td>\n",
       "      <td>0.237396</td>\n",
       "      <td>0.092034</td>\n",
       "      <td>12.648153</td>\n",
       "      <td>5.618025</td>\n",
       "      <td>2.792729</td>\n",
       "      <td>3.584372</td>\n",
       "      <td>3.175189</td>\n",
       "    </tr>\n",
       "    <tr>\n",
       "      <th>min</th>\n",
       "      <td>0.000000</td>\n",
       "      <td>0.000000</td>\n",
       "      <td>0.187500</td>\n",
       "      <td>0.137500</td>\n",
       "      <td>0.000000</td>\n",
       "      <td>0.056699</td>\n",
       "      <td>0.028349</td>\n",
       "      <td>0.042524</td>\n",
       "      <td>0.042524</td>\n",
       "      <td>1.000000</td>\n",
       "    </tr>\n",
       "    <tr>\n",
       "      <th>25%</th>\n",
       "      <td>18512.500000</td>\n",
       "      <td>0.000000</td>\n",
       "      <td>1.150000</td>\n",
       "      <td>0.887500</td>\n",
       "      <td>0.300000</td>\n",
       "      <td>13.437663</td>\n",
       "      <td>5.712424</td>\n",
       "      <td>2.863300</td>\n",
       "      <td>3.968930</td>\n",
       "      <td>8.000000</td>\n",
       "    </tr>\n",
       "    <tr>\n",
       "      <th>50%</th>\n",
       "      <td>37025.000000</td>\n",
       "      <td>1.000000</td>\n",
       "      <td>1.375000</td>\n",
       "      <td>1.075000</td>\n",
       "      <td>0.362500</td>\n",
       "      <td>23.799405</td>\n",
       "      <td>9.908150</td>\n",
       "      <td>4.989512</td>\n",
       "      <td>6.931453</td>\n",
       "      <td>10.000000</td>\n",
       "    </tr>\n",
       "    <tr>\n",
       "      <th>75%</th>\n",
       "      <td>55537.500000</td>\n",
       "      <td>2.000000</td>\n",
       "      <td>1.537500</td>\n",
       "      <td>1.200000</td>\n",
       "      <td>0.412500</td>\n",
       "      <td>32.162508</td>\n",
       "      <td>14.033003</td>\n",
       "      <td>6.988152</td>\n",
       "      <td>9.071840</td>\n",
       "      <td>11.000000</td>\n",
       "    </tr>\n",
       "    <tr>\n",
       "      <th>max</th>\n",
       "      <td>74050.000000</td>\n",
       "      <td>2.000000</td>\n",
       "      <td>2.012815</td>\n",
       "      <td>1.612500</td>\n",
       "      <td>2.825000</td>\n",
       "      <td>80.101512</td>\n",
       "      <td>42.184056</td>\n",
       "      <td>21.545620</td>\n",
       "      <td>28.491248</td>\n",
       "      <td>29.000000</td>\n",
       "    </tr>\n",
       "  </tbody>\n",
       "</table>\n",
       "</div>"
      ],
      "text/plain": [
       "                 id           Sex        Length      Diameter        Height  \\\n",
       "count  74051.000000  74051.000000  74051.000000  74051.000000  74051.000000   \n",
       "mean   37025.000000      1.055016      1.317460      1.024496      0.348089   \n",
       "std    21376.826729      0.820647      0.287757      0.237396      0.092034   \n",
       "min        0.000000      0.000000      0.187500      0.137500      0.000000   \n",
       "25%    18512.500000      0.000000      1.150000      0.887500      0.300000   \n",
       "50%    37025.000000      1.000000      1.375000      1.075000      0.362500   \n",
       "75%    55537.500000      2.000000      1.537500      1.200000      0.412500   \n",
       "max    74050.000000      2.000000      2.012815      1.612500      2.825000   \n",
       "\n",
       "             Weight  Shucked Weight  Viscera Weight  Shell Weight  \\\n",
       "count  74051.000000    74051.000000    74051.000000  74051.000000   \n",
       "mean      23.385217       10.104270        5.058386      6.723870   \n",
       "std       12.648153        5.618025        2.792729      3.584372   \n",
       "min        0.056699        0.028349        0.042524      0.042524   \n",
       "25%       13.437663        5.712424        2.863300      3.968930   \n",
       "50%       23.799405        9.908150        4.989512      6.931453   \n",
       "75%       32.162508       14.033003        6.988152      9.071840   \n",
       "max       80.101512       42.184056       21.545620     28.491248   \n",
       "\n",
       "                Age  \n",
       "count  74051.000000  \n",
       "mean       9.967806  \n",
       "std        3.175189  \n",
       "min        1.000000  \n",
       "25%        8.000000  \n",
       "50%       10.000000  \n",
       "75%       11.000000  \n",
       "max       29.000000  "
      ]
     },
     "execution_count": 10,
     "metadata": {},
     "output_type": "execute_result"
    }
   ],
   "source": [
    "df.describe()"
   ]
  },
  {
   "cell_type": "code",
   "execution_count": 11,
   "id": "4a6ff674-adee-4ede-8c10-aa855ac2ded4",
   "metadata": {},
   "outputs": [],
   "source": [
    "df.drop(columns='id',inplace=True)"
   ]
  },
  {
   "cell_type": "markdown",
   "id": "561068f3-c237-4c71-a0cd-c80c3dd214b8",
   "metadata": {},
   "source": [
    "### Missing Values"
   ]
  },
  {
   "cell_type": "code",
   "execution_count": 12,
   "id": "f123f7af-f3a0-4b34-b300-e7168dd6f864",
   "metadata": {},
   "outputs": [
    {
     "data": {
      "text/plain": [
       "Sex               0\n",
       "Length            0\n",
       "Diameter          0\n",
       "Height            0\n",
       "Weight            0\n",
       "Shucked Weight    0\n",
       "Viscera Weight    0\n",
       "Shell Weight      0\n",
       "Age               0\n",
       "dtype: int64"
      ]
     },
     "execution_count": 12,
     "metadata": {},
     "output_type": "execute_result"
    }
   ],
   "source": [
    "df.isna().sum()"
   ]
  },
  {
   "cell_type": "raw",
   "id": "3b592326-5c96-4cb5-9689-982cacf318a8",
   "metadata": {},
   "source": [
    "No missing data found."
   ]
  },
  {
   "cell_type": "code",
   "execution_count": 13,
   "id": "4ad08ee6-b25c-4f0b-8d75-1b93d04d55f2",
   "metadata": {},
   "outputs": [
    {
     "data": {
      "text/plain": [
       "<Axes: >"
      ]
     },
     "execution_count": 13,
     "metadata": {},
     "output_type": "execute_result"
    },
    {
     "data": {
      "image/png": "[encoded data removed]",
      "text/plain": [
       "<Figure size 640x480 with 2 Axes>"
      ]
     },
     "metadata": {},
     "output_type": "display_data"
    }
   ],
   "source": [
    "correlation = df.corr()\n",
    "# creating a colormap\n",
    "colormap = sns.color_palette(\"Spectral\", as_cmap=True)\n",
    "sns.heatmap(correlation,annot=True,fmt='.2f',cmap=colormap,linewidths=0.1, vmax=1.0, vmin=-1.0, \n",
    "                square=True)"
   ]
  },
  {
   "cell_type": "raw",
   "id": "ae0732d0-73e2-4fdf-9a36-19e3f3567d65",
   "metadata": {},
   "source": [
    "From the Heatmap we can observe that,\n",
    "\n",
    "Weight and Shell weight are highly correlated features to each other.\n",
    "Similarly Length, Height and Diameter are correlated features to each other.\n",
    "All the numerical features are highly correlated to one another."
   ]
  },
  {
   "cell_type": "code",
   "execution_count": 14,
   "id": "1a9245a0-ae2b-45e3-9248-c4e4a6320fd5",
   "metadata": {},
   "outputs": [],
   "source": [
    "x = df.drop(columns=['Age']).copy()\n",
    "y = df['Age'].copy()"
   ]
  },
  {
   "cell_type": "code",
   "execution_count": 15,
   "id": "76c6bb1f-f383-4aac-9088-cfc6a82c1424",
   "metadata": {},
   "outputs": [
    {
     "data": {
      "text/html": [
       "<div>\n",
       "<style scoped>\n",
       "    .dataframe tbody tr th:only-of-type {\n",
       "        vertical-align: middle;\n",
       "    }\n",
       "\n",
       "    .dataframe tbody tr th {\n",
       "        vertical-align: top;\n",
       "    }\n",
       "\n",
       "    .dataframe thead th {\n",
       "        text-align: right;\n",
       "    }\n",
       "</style>\n",
       "<table border=\"1\" class=\"dataframe\">\n",
       "  <thead>\n",
       "    <tr style=\"text-align: right;\">\n",
       "      <th></th>\n",
       "      <th>Sex</th>\n",
       "      <th>Length</th>\n",
       "      <th>Diameter</th>\n",
       "      <th>Height</th>\n",
       "      <th>Weight</th>\n",
       "      <th>Shucked Weight</th>\n",
       "      <th>Viscera Weight</th>\n",
       "      <th>Shell Weight</th>\n",
       "    </tr>\n",
       "  </thead>\n",
       "  <tbody>\n",
       "    <tr>\n",
       "      <th>0</th>\n",
       "      <td>1</td>\n",
       "      <td>1.0500</td>\n",
       "      <td>0.7625</td>\n",
       "      <td>0.2750</td>\n",
       "      <td>8.618248</td>\n",
       "      <td>3.657085</td>\n",
       "      <td>1.729319</td>\n",
       "      <td>2.721552</td>\n",
       "    </tr>\n",
       "    <tr>\n",
       "      <th>1</th>\n",
       "      <td>1</td>\n",
       "      <td>1.1625</td>\n",
       "      <td>0.8875</td>\n",
       "      <td>0.2750</td>\n",
       "      <td>15.507176</td>\n",
       "      <td>7.030676</td>\n",
       "      <td>3.246018</td>\n",
       "      <td>3.968930</td>\n",
       "    </tr>\n",
       "    <tr>\n",
       "      <th>2</th>\n",
       "      <td>0</td>\n",
       "      <td>1.2875</td>\n",
       "      <td>0.9875</td>\n",
       "      <td>0.3250</td>\n",
       "      <td>14.571643</td>\n",
       "      <td>5.556502</td>\n",
       "      <td>3.883882</td>\n",
       "      <td>4.819415</td>\n",
       "    </tr>\n",
       "    <tr>\n",
       "      <th>3</th>\n",
       "      <td>0</td>\n",
       "      <td>1.5500</td>\n",
       "      <td>0.9875</td>\n",
       "      <td>0.3875</td>\n",
       "      <td>28.377849</td>\n",
       "      <td>13.380964</td>\n",
       "      <td>6.548735</td>\n",
       "      <td>7.030676</td>\n",
       "    </tr>\n",
       "    <tr>\n",
       "      <th>4</th>\n",
       "      <td>1</td>\n",
       "      <td>1.1125</td>\n",
       "      <td>0.8500</td>\n",
       "      <td>0.2625</td>\n",
       "      <td>11.765042</td>\n",
       "      <td>5.528153</td>\n",
       "      <td>2.466407</td>\n",
       "      <td>3.331066</td>\n",
       "    </tr>\n",
       "  </tbody>\n",
       "</table>\n",
       "</div>"
      ],
      "text/plain": [
       "   Sex  Length  Diameter  Height     Weight  Shucked Weight  Viscera Weight  \\\n",
       "0    1  1.0500    0.7625  0.2750   8.618248        3.657085        1.729319   \n",
       "1    1  1.1625    0.8875  0.2750  15.507176        7.030676        3.246018   \n",
       "2    0  1.2875    0.9875  0.3250  14.571643        5.556502        3.883882   \n",
       "3    0  1.5500    0.9875  0.3875  28.377849       13.380964        6.548735   \n",
       "4    1  1.1125    0.8500  0.2625  11.765042        5.528153        2.466407   \n",
       "\n",
       "   Shell Weight  \n",
       "0      2.721552  \n",
       "1      3.968930  \n",
       "2      4.819415  \n",
       "3      7.030676  \n",
       "4      3.331066  "
      ]
     },
     "execution_count": 15,
     "metadata": {},
     "output_type": "execute_result"
    }
   ],
   "source": [
    "test_df.drop('id',axis=1,inplace=True)\n",
    "test_df['Sex'] = label_encoder.fit_transform(test_df['Sex'])\n",
    "test_df.head()"
   ]
  },
  {
   "cell_type": "markdown",
   "id": "6150f40d-63c0-4dbd-91bf-7c46131d50a9",
   "metadata": {},
   "source": [
    "### SPLIT DATA"
   ]
  },
  {
   "cell_type": "code",
   "execution_count": 16,
   "id": "88e57de2-34a6-45af-ad86-07e893bcd37b",
   "metadata": {},
   "outputs": [],
   "source": [
    "from sklearn.model_selection import train_test_split"
   ]
  },
  {
   "cell_type": "code",
   "execution_count": 17,
   "id": "42e1a705-2c23-41cc-8964-36a79099d1b1",
   "metadata": {},
   "outputs": [],
   "source": [
    "x_train, x_test, y_train, y_test = train_test_split(x, y, test_size = 0.1,random_state=42)\n",
    "x_train, x_val, y_train, y_val = train_test_split(x_train, y_train, test_size = 0.1,random_state=42)"
   ]
  },
  {
   "cell_type": "code",
   "execution_count": 18,
   "id": "697e648d-2f45-4e70-a752-6abb916d5926",
   "metadata": {},
   "outputs": [],
   "source": [
    "results = pd.DataFrame({'name':[],'training_mae':[],'testing_mae':[],'best_parameters':[]})"
   ]
  },
  {
   "cell_type": "code",
   "execution_count": 19,
   "id": "f41504c7-dd92-4a33-b6f2-e7ae76c013b6",
   "metadata": {},
   "outputs": [],
   "source": [
    "iterations = 10000"
   ]
  },
  {
   "cell_type": "markdown",
   "id": "cef4e05f-ad80-4412-9a76-37851d49011f",
   "metadata": {},
   "source": [
    "## Model"
   ]
  },
  {
   "cell_type": "code",
   "execution_count": 20,
   "id": "0a194207-59d6-47f2-bad5-74b8c99cc6de",
   "metadata": {},
   "outputs": [],
   "source": [
    "from sklearn.tree import DecisionTreeRegressor\n",
    "from sklearn.ensemble import RandomForestRegressor\n",
    "from xgboost import XGBRegressor as xgbr\n",
    "from catboost import CatBoostRegressor as cbr\n",
    "from lightgbm import LGBMRegressor as lgbmr"
   ]
  },
  {
   "cell_type": "code",
   "execution_count": 21,
   "id": "df1f4055-eebc-4680-acf2-036ee5793309",
   "metadata": {},
   "outputs": [],
   "source": [
    "from sklearn.metrics import mean_squared_error,mean_absolute_error as mae\n",
    "from sklearn.model_selection import GridSearchCV,cross_val_score\n",
    "from sklearn.decomposition import PCA"
   ]
  },
  {
   "cell_type": "markdown",
   "id": "beff5f22-cc0f-436f-9801-4044607f10b2",
   "metadata": {},
   "source": [
    "### Lightgbm"
   ]
  },
  {
   "cell_type": "code",
   "execution_count": 22,
   "id": "ba716b87-8614-4338-a916-da4ed95bcdf6",
   "metadata": {},
   "outputs": [],
   "source": [
    "lgb = lgbmr()"
   ]
  },
  {
   "cell_type": "code",
   "execution_count": 23,
   "id": "63b02eb0-003d-421d-9942-d567915d7e92",
   "metadata": {},
   "outputs": [],
   "source": [
    "def regression_metrics(y_test,y_pred):\n",
    "    print(\"MAE:\\t\",round(mae(y_test,y_pred),4))\n",
    "    return round(mae(y_test,y_pred),4)"
   ]
  },
  {
   "cell_type": "code",
   "execution_count": 26,
   "id": "f6b72fda-72b1-4994-a0f9-e6dbd3098af7",
   "metadata": {},
   "outputs": [],
   "source": [
    "import lightgbm as lgb"
   ]
  },
  {
   "cell_type": "code",
   "execution_count": 27,
   "id": "7a8d93bb-fba5-4fb9-8062-da2d89459b31",
   "metadata": {},
   "outputs": [],
   "source": [
    "# Create a LightGBM dataset for training with features X_train and labels Y_train \n",
    "train_data = lgb.Dataset(x_train, label=y_train) \n",
    "  \n",
    "# Create a LightGBM dataset for testing with features X_val and labels Y_val, \n",
    "# and specify the reference dataset as train_data for consistent evaluation \n",
    "test_data = lgb.Dataset(x_test, label=y_test, reference=train_data) "
   ]
  },
  {
   "cell_type": "code",
   "execution_count": 28,
   "id": "c142cb0d-abb8-4b9a-8b91-e5b1230ad9e9",
   "metadata": {},
   "outputs": [],
   "source": [
    "params = { \n",
    "    'objective': 'regression', \n",
    "    'metric': 'rmse', \n",
    "    'boosting_type': 'gbdt', \n",
    "    'num_leaves': 31, \n",
    "    'learning_rate': 0.05, \n",
    "    'feature_fraction': 0.9, \n",
    "} "
   ]
  },
  {
   "cell_type": "code",
   "execution_count": 31,
   "id": "bb496d37-687e-47f1-a7dd-3b4c0771e58f",
   "metadata": {},
   "outputs": [
    {
     "name": "stdout",
     "output_type": "stream",
     "text": [
      "[LightGBM] [Warning] Found whitespace in feature_names, replace with underlines\n",
      "[LightGBM] [Info] Auto-choosing col-wise multi-threading, the overhead of testing was 0.006320 seconds.\n",
      "You can set `force_col_wise=true` to remove the overhead.\n",
      "[LightGBM] [Info] Total Bins 1319\n",
      "[LightGBM] [Info] Number of data points in the train set: 59980, number of used features: 8\n",
      "[LightGBM] [Warning] Found whitespace in feature_names, replace with underlines\n",
      "[LightGBM] [Info] Start training from score 9.969490\n"
     ]
    }
   ],
   "source": [
    "# Set the number of rounds and train the model with early stopping\n",
    "num_round = 100\n",
    "bst = lgb.train(\n",
    "    params,\n",
    "    train_data,\n",
    "    num_round,\n",
    "    valid_sets=[test_data],\n",
    ")"
   ]
  },
  {
   "cell_type": "code",
   "execution_count": 33,
   "id": "0b643aa2-0855-4d96-ab25-392946988bec",
   "metadata": {},
   "outputs": [],
   "source": [
    "# Make predictions\n",
    "y_pred = bst.predict(x_test, num_iteration=bst.best_iteration)"
   ]
  },
  {
   "cell_type": "code",
   "execution_count": 46,
   "id": "010e2af2-81ab-4891-b15c-94cf3cf2dbf6",
   "metadata": {},
   "outputs": [
    {
     "name": "stdout",
     "output_type": "stream",
     "text": [
      "[LightGBM] [Warning] Found whitespace in feature_names, replace with underlines\n",
      "[LightGBM] [Info] Auto-choosing col-wise multi-threading, the overhead of testing was 0.005294 seconds.\n",
      "You can set `force_col_wise=true` to remove the overhead.\n",
      "[LightGBM] [Info] Total Bins 1319\n",
      "[LightGBM] [Info] Number of data points in the train set: 59980, number of used features: 8\n",
      "[LightGBM] [Info] Start training from score 9.969490\n"
     ]
    }
   ],
   "source": [
    "from sklearn.metrics import mean_squared_error as mse \n",
    "from lightgbm import LGBMRegressor \n",
    "  \n",
    "# Create an instance of the LightGBM Regressor with the RMSE metric. \n",
    "model = LGBMRegressor(metric='mae') \n",
    "  \n",
    "# Train the model using the training data. \n",
    "model.fit(x_train, y_train) \n",
    "  \n",
    "# Make predictions on the training and validation data. \n",
    "Y_train = model.predict(x_train) \n",
    "y_pred = model.predict(x_test) "
   ]
  },
  {
   "cell_type": "code",
   "execution_count": 47,
   "id": "12216625-257d-4c57-bff3-1dbf58a162fc",
   "metadata": {},
   "outputs": [
    {
     "name": "stdout",
     "output_type": "stream",
     "text": [
      "Training RMSE:  0.08102263268710168\n",
      "Validation RMSE:  2.055627344305822\n"
     ]
    }
   ],
   "source": [
    "# Calculate and print the Root Mean Squared Error (RMSE) for training and validation predictions. \n",
    "print(\"Training RMSE: \", np.sqrt(mse(Y_train, y_train))) \n",
    "print(\"Validation RMSE: \", np.sqrt(mse(y_pred, y_test)))"
   ]
  },
  {
   "cell_type": "code",
   "execution_count": 39,
   "id": "d5ee1638-26f6-45ef-aad2-9a82ce1274ad",
   "metadata": {},
   "outputs": [
    {
     "data": {
      "text/plain": [
       "array([ 7.50459003,  7.78213166, 10.80568444, ..., 13.11132765,\n",
       "       10.07799431, 12.43681833])"
      ]
     },
     "execution_count": 39,
     "metadata": {},
     "output_type": "execute_result"
    }
   ],
   "source": [
    "lgb_pred= model.predict(test_df)\n",
    "lgb_pred"
   ]
  },
  {
   "cell_type": "code",
   "execution_count": 40,
   "id": "065b46de-5fd3-4d90-8f91-5a4efb7c7411",
   "metadata": {},
   "outputs": [],
   "source": [
    "import math\n",
    "def round_off(x):\n",
    "    return round(x)"
   ]
  },
  {
   "cell_type": "code",
   "execution_count": 41,
   "id": "27dac2f5-05b2-4276-9aa1-ae375aac6e70",
   "metadata": {},
   "outputs": [],
   "source": [
    "lgb_pred = list(map(round_off,lgb_pred))"
   ]
  },
  {
   "cell_type": "code",
   "execution_count": 42,
   "id": "afec4f49-fcb0-488a-9722-bc4fe7cfd981",
   "metadata": {},
   "outputs": [
    {
     "data": {
      "text/html": [
       "<div>\n",
       "<style scoped>\n",
       "    .dataframe tbody tr th:only-of-type {\n",
       "        vertical-align: middle;\n",
       "    }\n",
       "\n",
       "    .dataframe tbody tr th {\n",
       "        vertical-align: top;\n",
       "    }\n",
       "\n",
       "    .dataframe thead th {\n",
       "        text-align: right;\n",
       "    }\n",
       "</style>\n",
       "<table border=\"1\" class=\"dataframe\">\n",
       "  <thead>\n",
       "    <tr style=\"text-align: right;\">\n",
       "      <th></th>\n",
       "      <th>id</th>\n",
       "      <th>Age</th>\n",
       "    </tr>\n",
       "  </thead>\n",
       "  <tbody>\n",
       "    <tr>\n",
       "      <th>0</th>\n",
       "      <td>74051</td>\n",
       "      <td>8</td>\n",
       "    </tr>\n",
       "    <tr>\n",
       "      <th>1</th>\n",
       "      <td>74052</td>\n",
       "      <td>8</td>\n",
       "    </tr>\n",
       "    <tr>\n",
       "      <th>2</th>\n",
       "      <td>74053</td>\n",
       "      <td>11</td>\n",
       "    </tr>\n",
       "    <tr>\n",
       "      <th>3</th>\n",
       "      <td>74054</td>\n",
       "      <td>10</td>\n",
       "    </tr>\n",
       "    <tr>\n",
       "      <th>4</th>\n",
       "      <td>74055</td>\n",
       "      <td>8</td>\n",
       "    </tr>\n",
       "    <tr>\n",
       "      <th>...</th>\n",
       "      <td>...</td>\n",
       "      <td>...</td>\n",
       "    </tr>\n",
       "    <tr>\n",
       "      <th>49363</th>\n",
       "      <td>123414</td>\n",
       "      <td>9</td>\n",
       "    </tr>\n",
       "    <tr>\n",
       "      <th>49364</th>\n",
       "      <td>123415</td>\n",
       "      <td>8</td>\n",
       "    </tr>\n",
       "    <tr>\n",
       "      <th>49365</th>\n",
       "      <td>123416</td>\n",
       "      <td>13</td>\n",
       "    </tr>\n",
       "    <tr>\n",
       "      <th>49366</th>\n",
       "      <td>123417</td>\n",
       "      <td>10</td>\n",
       "    </tr>\n",
       "    <tr>\n",
       "      <th>49367</th>\n",
       "      <td>123418</td>\n",
       "      <td>12</td>\n",
       "    </tr>\n",
       "  </tbody>\n",
       "</table>\n",
       "<p>49368 rows × 2 columns</p>\n",
       "</div>"
      ],
      "text/plain": [
       "           id  Age\n",
       "0       74051    8\n",
       "1       74052    8\n",
       "2       74053   11\n",
       "3       74054   10\n",
       "4       74055    8\n",
       "...       ...  ...\n",
       "49363  123414    9\n",
       "49364  123415    8\n",
       "49365  123416   13\n",
       "49366  123417   10\n",
       "49367  123418   12\n",
       "\n",
       "[49368 rows x 2 columns]"
      ]
     },
     "execution_count": 42,
     "metadata": {},
     "output_type": "execute_result"
    }
   ],
   "source": [
    "submission_lgb = pd.DataFrame({'id': sample_df.id, 'Age': lgb_pred})\n",
    "submission_lgb.to_csv(path_or_buf = 'submission_lgb.csv', index = False)\n",
    "pd.read_csv('submission_lgb.csv')"
   ]
  },
  {
   "cell_type": "code",
   "execution_count": 51,
   "id": "68f09c99-db37-4cf1-b882-ae45a0c61716",
   "metadata": {},
   "outputs": [],
   "source": [
    "\n",
    "from catboost import CatBoostRegressor"
   ]
  },
  {
   "cell_type": "code",
   "execution_count": 52,
   "id": "e92d6d31-923a-4bf3-910a-7a3a8416734d",
   "metadata": {},
   "outputs": [
    {
     "name": "stdout",
     "output_type": "stream",
     "text": [
      "Learning rate set to 0.078182\n",
      "0:\tlearn: 2.2629206\ttotal: 11.4ms\tremaining: 11.4s\n",
      "100:\tlearn: 0.3090937\ttotal: 522ms\tremaining: 4.65s\n",
      "200:\tlearn: 0.2150106\ttotal: 1.04s\tremaining: 4.15s\n",
      "300:\tlearn: 0.1737944\ttotal: 1.55s\tremaining: 3.6s\n",
      "400:\tlearn: 0.1522704\ttotal: 2.03s\tremaining: 3.03s\n",
      "500:\tlearn: 0.1371065\ttotal: 2.5s\tremaining: 2.49s\n",
      "600:\tlearn: 0.1256787\ttotal: 2.94s\tremaining: 1.95s\n",
      "700:\tlearn: 0.1179736\ttotal: 3.4s\tremaining: 1.45s\n",
      "800:\tlearn: 0.1114675\ttotal: 3.84s\tremaining: 954ms\n",
      "900:\tlearn: 0.1060185\ttotal: 4.28s\tremaining: 470ms\n",
      "999:\tlearn: 0.1015963\ttotal: 4.69s\tremaining: 0us\n"
     ]
    },
    {
     "data": {
      "text/plain": [
       "<catboost.core.CatBoostRegressor at 0x177e9236840>"
      ]
     },
     "execution_count": 52,
     "metadata": {},
     "output_type": "execute_result"
    }
   ],
   "source": [
    "model = CatBoostRegressor(loss_function='RMSE') \n",
    "  \n",
    "# Fit the model on the training data with verbose logging every 100 iterations \n",
    "model.fit(x_train, y_train, verbose=100) "
   ]
  },
  {
   "cell_type": "code",
   "execution_count": 53,
   "id": "8f873f54-c87a-46b7-ad2e-e255296d8440",
   "metadata": {},
   "outputs": [
    {
     "name": "stdout",
     "output_type": "stream",
     "text": [
      "Training RMSE:  0.10159626201732065\n",
      "Validation RMSE:  2.0487781453551976\n"
     ]
    }
   ],
   "source": [
    "from sklearn.metrics import mean_squared_error as mse \n",
    "  \n",
    "# Generate predictions on the training and validation sets using the trained 'model' \n",
    "Y_train = model.predict(x_train) \n",
    "y_val = model.predict(x_test) \n",
    "  \n",
    "# Calculate and print the Root Mean Squared Error (RMSE) for training and validation sets \n",
    "print(\"Training RMSE: \", np.sqrt(mse(Y_train, y_train))) \n",
    "print(\"Validation RMSE: \", np.sqrt(mse(y_test, y_val))) "
   ]
  },
  {
   "cell_type": "code",
   "execution_count": 54,
   "id": "83f47bc9-c163-4625-a646-26da0bb7e1d8",
   "metadata": {},
   "outputs": [
    {
     "data": {
      "text/plain": [
       "array([ 7.49683846,  7.69293955, 10.87508572, ..., 13.16131956,\n",
       "       10.04544081, 12.30557722])"
      ]
     },
     "execution_count": 54,
     "metadata": {},
     "output_type": "execute_result"
    }
   ],
   "source": [
    "cb_pred= model.predict(test_df)\n",
    "cb_pred"
   ]
  },
  {
   "cell_type": "code",
   "execution_count": 55,
   "id": "973b13c5-83c1-406a-a7e5-201eb76112d4",
   "metadata": {},
   "outputs": [],
   "source": [
    "cb_pred = list(map(round_off,cb_pred))"
   ]
  },
  {
   "cell_type": "code",
   "execution_count": 56,
   "id": "c3a9d420-b773-484d-935c-bed03a06db97",
   "metadata": {},
   "outputs": [
    {
     "data": {
      "text/html": [
       "<div>\n",
       "<style scoped>\n",
       "    .dataframe tbody tr th:only-of-type {\n",
       "        vertical-align: middle;\n",
       "    }\n",
       "\n",
       "    .dataframe tbody tr th {\n",
       "        vertical-align: top;\n",
       "    }\n",
       "\n",
       "    .dataframe thead th {\n",
       "        text-align: right;\n",
       "    }\n",
       "</style>\n",
       "<table border=\"1\" class=\"dataframe\">\n",
       "  <thead>\n",
       "    <tr style=\"text-align: right;\">\n",
       "      <th></th>\n",
       "      <th>id</th>\n",
       "      <th>Age</th>\n",
       "    </tr>\n",
       "  </thead>\n",
       "  <tbody>\n",
       "    <tr>\n",
       "      <th>0</th>\n",
       "      <td>74051</td>\n",
       "      <td>7</td>\n",
       "    </tr>\n",
       "    <tr>\n",
       "      <th>1</th>\n",
       "      <td>74052</td>\n",
       "      <td>8</td>\n",
       "    </tr>\n",
       "    <tr>\n",
       "      <th>2</th>\n",
       "      <td>74053</td>\n",
       "      <td>11</td>\n",
       "    </tr>\n",
       "    <tr>\n",
       "      <th>3</th>\n",
       "      <td>74054</td>\n",
       "      <td>10</td>\n",
       "    </tr>\n",
       "    <tr>\n",
       "      <th>4</th>\n",
       "      <td>74055</td>\n",
       "      <td>8</td>\n",
       "    </tr>\n",
       "    <tr>\n",
       "      <th>...</th>\n",
       "      <td>...</td>\n",
       "      <td>...</td>\n",
       "    </tr>\n",
       "    <tr>\n",
       "      <th>49363</th>\n",
       "      <td>123414</td>\n",
       "      <td>10</td>\n",
       "    </tr>\n",
       "    <tr>\n",
       "      <th>49364</th>\n",
       "      <td>123415</td>\n",
       "      <td>8</td>\n",
       "    </tr>\n",
       "    <tr>\n",
       "      <th>49365</th>\n",
       "      <td>123416</td>\n",
       "      <td>13</td>\n",
       "    </tr>\n",
       "    <tr>\n",
       "      <th>49366</th>\n",
       "      <td>123417</td>\n",
       "      <td>10</td>\n",
       "    </tr>\n",
       "    <tr>\n",
       "      <th>49367</th>\n",
       "      <td>123418</td>\n",
       "      <td>12</td>\n",
       "    </tr>\n",
       "  </tbody>\n",
       "</table>\n",
       "<p>49368 rows × 2 columns</p>\n",
       "</div>"
      ],
      "text/plain": [
       "           id  Age\n",
       "0       74051    7\n",
       "1       74052    8\n",
       "2       74053   11\n",
       "3       74054   10\n",
       "4       74055    8\n",
       "...       ...  ...\n",
       "49363  123414   10\n",
       "49364  123415    8\n",
       "49365  123416   13\n",
       "49366  123417   10\n",
       "49367  123418   12\n",
       "\n",
       "[49368 rows x 2 columns]"
      ]
     },
     "execution_count": 56,
     "metadata": {},
     "output_type": "execute_result"
    }
   ],
   "source": [
    "submission_cb = pd.DataFrame({'id': sample_df.id, 'Age': cb_pred})\n",
    "submission_cb.to_csv(path_or_buf = 'submission_cb.csv', index = False)\n",
    "pd.read_csv('submission_cb.csv')"
   ]
  },
  {
   "cell_type": "code",
   "execution_count": null,
   "id": "dd058f62-ff06-4515-b1bc-ce8020b72210",
   "metadata": {},
   "outputs": [],
   "source": []
  }
 ],
 "metadata": {
  "kernelspec": {
   "display_name": "Python 3 (ipykernel)",
   "language": "python",
   "name": "python3"
  },
  "language_info": {
   "codemirror_mode": {
    "name": "ipython",
    "version": 3
   },
   "file_extension": ".py",
   "mimetype": "text/x-python",
   "name": "python",
   "nbconvert_exporter": "python",
   "pygments_lexer": "ipython3",
   "version": "3.12.0"
  }
 },
 "nbformat": 4,
 "nbformat_minor": 5
}
